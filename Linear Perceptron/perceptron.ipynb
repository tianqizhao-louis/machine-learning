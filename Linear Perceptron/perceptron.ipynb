{
 "metadata": {
  "language_info": {
   "codemirror_mode": {
    "name": "ipython",
    "version": 3
   },
   "file_extension": ".py",
   "mimetype": "text/x-python",
   "name": "python",
   "nbconvert_exporter": "python",
   "pygments_lexer": "ipython3",
   "version": "3.9.1"
  },
  "orig_nbformat": 2,
  "kernelspec": {
   "name": "python391jvsc74a57bd032b1a8cb552be7ee525a2a484f58f8afabace3e0ec316d36ddb54f54d01d92c6",
   "display_name": "Python 3.9.1 64-bit ('base': conda)"
  }
 },
 "nbformat": 4,
 "nbformat_minor": 2,
 "cells": [
  {
   "cell_type": "code",
   "execution_count": 1,
   "metadata": {},
   "outputs": [],
   "source": [
    "import random\n",
    "import numpy as np "
   ]
  },
  {
   "cell_type": "code",
   "execution_count": 2,
   "metadata": {
    "tags": []
   },
   "outputs": [],
   "source": [
    "list_of_lists = []\n",
    "with open('bankdata.txt', 'r') as txt_file:\n",
    "    list_of_lists = [[float(item) for item in line.strip().split(',')] for line in txt_file]\n",
    "\n",
    "all_features = [item[:-1] for item in list_of_lists]\n",
    "all_labels = [item[-1] for item in list_of_lists]"
   ]
  },
  {
   "cell_type": "code",
   "execution_count": 3,
   "metadata": {},
   "outputs": [],
   "source": [
    "class My_Perceptron(object):\n",
    "    def __init__(self):\n",
    "        self.weight_vector = []\n",
    "    \n",
    "    def function(self, features):\n",
    "        '''Activation function\n",
    "        \n",
    "        z is the input vector Z\n",
    "        weight_vector is the vector of weights\n",
    "        '''\n",
    "        total_sum = self.weight_vector[0]\n",
    "        for i in range(1, len(features)):\n",
    "            # f(x) = wx + b\n",
    "            total_sum += features[i] * self.weight_vector[i+1]\n",
    "\n",
    "        return 1.0 if total_sum >= 0.0 else 0.0\n",
    "    \n",
    "    def train(self, features, labels, r=0.01, max_iter=5):\n",
    "        '''Train the weights\n",
    "\n",
    "        dataset is the input dataset\n",
    "        '''\n",
    "        # initialize all weights to 0\n",
    "        self.weight_vector = [0 for i in range(len(features[0]) + 1)]\n",
    "\n",
    "        total_sum_dataset = len(features)\n",
    "\n",
    "        for each_iter in range(max_iter):\n",
    "            error_count = 0\n",
    "            for instance_features, label in zip(features, labels):\n",
    "                # Calculate the actual output\n",
    "                actual_output = self.function(instance_features)\n",
    "                if actual_output != label:\n",
    "                    # wrong output\n",
    "                    error_count += 1\n",
    "                    # update the weights\n",
    "                    diff = r * (label - actual_output)\n",
    "\n",
    "                    for w in range(1, len(self.weight_vector)):\n",
    "                        self.weight_vector[w] += diff * instance_features[w-1]\n",
    "                    \n",
    "                    # update the bias\n",
    "                    self.weight_vector[0] += diff\n",
    "\n",
    "            print('Number of Errors: ' + str(error_count))\n",
    "            print('Score: ' + str(self.score(error_count, total_sum_dataset)))\n",
    "            # random.shuffle(dataset)\n",
    "        return\n",
    "    \n",
    "    def score(self, errors, total_number):\n",
    "        return (total_number - errors) / total_number"
   ]
  },
  {
   "cell_type": "code",
   "execution_count": 4,
   "metadata": {},
   "outputs": [
    {
     "output_type": "stream",
     "name": "stdout",
     "text": [
      "Number of Errors: 35\nScore: 0.9744897959183674\nNumber of Errors: 43\nScore: 0.9686588921282799\nNumber of Errors: 44\nScore: 0.967930029154519\nNumber of Errors: 47\nScore: 0.9657434402332361\nNumber of Errors: 46\nScore: 0.9664723032069971\nNumber of Errors: 48\nScore: 0.9650145772594753\nNumber of Errors: 46\nScore: 0.9664723032069971\nNumber of Errors: 47\nScore: 0.9657434402332361\nNumber of Errors: 45\nScore: 0.967201166180758\nNumber of Errors: 44\nScore: 0.967930029154519\nNumber of Errors: 45\nScore: 0.967201166180758\nNumber of Errors: 51\nScore: 0.9628279883381924\nNumber of Errors: 46\nScore: 0.9664723032069971\nNumber of Errors: 45\nScore: 0.967201166180758\nNumber of Errors: 42\nScore: 0.9693877551020408\nNumber of Errors: 44\nScore: 0.967930029154519\nNumber of Errors: 44\nScore: 0.967930029154519\nNumber of Errors: 46\nScore: 0.9664723032069971\nNumber of Errors: 52\nScore: 0.9620991253644315\nNumber of Errors: 55\nScore: 0.9599125364431487\n"
     ]
    }
   ],
   "source": [
    "my_perceptron = My_Perceptron()\n",
    "my_perceptron.train(all_features, all_labels, r=0.001, max_iter=20)"
   ]
  }
 ]
}