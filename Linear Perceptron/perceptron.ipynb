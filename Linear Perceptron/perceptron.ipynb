{
 "metadata": {
  "language_info": {
   "codemirror_mode": {
    "name": "ipython",
    "version": 3
   },
   "file_extension": ".py",
   "mimetype": "text/x-python",
   "name": "python",
   "nbconvert_exporter": "python",
   "pygments_lexer": "ipython3",
   "version": "3.9.1"
  },
  "orig_nbformat": 2,
  "kernelspec": {
   "name": "python391jvsc74a57bd032b1a8cb552be7ee525a2a484f58f8afabace3e0ec316d36ddb54f54d01d92c6",
   "display_name": "Python 3.9.1 64-bit ('base': conda)"
  }
 },
 "nbformat": 4,
 "nbformat_minor": 2,
 "cells": [
  {
   "cell_type": "code",
   "execution_count": 6,
   "metadata": {},
   "outputs": [],
   "source": [
    "import random\n",
    "import numpy as np "
   ]
  },
  {
   "cell_type": "code",
   "execution_count": 7,
   "metadata": {
    "tags": []
   },
   "outputs": [],
   "source": [
    "list_of_lists = []\n",
    "with open('bankdata.txt', 'r') as txt_file:\n",
    "    list_of_lists = [line.strip().split(',') for line in txt_file]\n",
    "\n",
    "float_list = [[float(item) for item in inner] for inner in list_of_lists]"
   ]
  },
  {
   "cell_type": "code",
   "execution_count": 8,
   "metadata": {},
   "outputs": [],
   "source": [
    "class My_Perceptron(object):\n",
    "    def __init__(self, r=0.01, initial_weight=0, max_iter=5, threshold=0):\n",
    "        self.r = r # learning rate, between 0 and 1\n",
    "        self.initial_weight = initial_weight # initial value of weights\n",
    "        self.max_iter = max_iter\n",
    "        self.threshold = threshold # threshold, in this case, 0\n",
    "    \n",
    "    def function(self, z, weight_vector):\n",
    "        '''Activation function\n",
    "        \n",
    "        z is the input vector Z\n",
    "        weight_vector is the vector of weights\n",
    "        '''\n",
    "        bias = weight_vector[0]\n",
    "        total_sum = 0\n",
    "        for i in range(len(z) - 1):\n",
    "            # f(x) = wx + b\n",
    "            total_sum += z[i] * weight_vector[i+1]\n",
    "        \n",
    "        total_sum += bias\n",
    "\n",
    "        return 1.0 if total_sum >= 0.0 else 0.0\n",
    "    \n",
    "    def train(self, dataset):\n",
    "        '''Train the weights\n",
    "\n",
    "        dataset is the input dataset\n",
    "        '''\n",
    "        # initialize all weights to 0\n",
    "        weight_vector = [0 for i in range(len(dataset[0]))]\n",
    "\n",
    "        total_sum_dataset = len(dataset)\n",
    "\n",
    "        for each_iter in range(self.max_iter):\n",
    "            error_count = 0\n",
    "            for line in dataset:\n",
    "                # Calculate the actual output\n",
    "                actual_output = self.function(line, weight_vector)\n",
    "                # desired output, last item in the line\n",
    "                desired_output = line[len(line) - 1]\n",
    "                if actual_output != desired_output:\n",
    "                    # wrong output\n",
    "                    error_count += 1\n",
    "                \n",
    "                # update the weights\n",
    "                for w in range(len(weight_vector) - 1):\n",
    "                   weight_vector[w + 1] = weight_vector[w] + self.r * (desired_output - actual_output) * line[w]\n",
    "                \n",
    "                # update the bias\n",
    "                weight_vector[0] = weight_vector[0] + self.r * (desired_output - actual_output)\n",
    "            print('Number of Errors: ' + str(error_count))\n",
    "            print('Score: ' + str(self.score(error_count, total_sum_dataset)))\n",
    "            random.shuffle(dataset)\n",
    "        return\n",
    "    \n",
    "    def score(self, errors, total_number):\n",
    "        return (total_number - errors) / total_number"
   ]
  },
  {
   "cell_type": "code",
   "execution_count": 9,
   "metadata": {},
   "outputs": [
    {
     "output_type": "stream",
     "name": "stdout",
     "text": [
      "Number of Errors: 377\nScore: 0.7252186588921283\nNumber of Errors: 1154\nScore: 0.1588921282798834\nNumber of Errors: 520\nScore: 0.6209912536443148\nNumber of Errors: 565\nScore: 0.5881924198250729\nNumber of Errors: 524\nScore: 0.6180758017492711\n"
     ]
    }
   ],
   "source": [
    "my_perceptron = My_Perceptron()\n",
    "my_perceptron.train(float_list)"
   ]
  },
  {
   "cell_type": "code",
   "execution_count": null,
   "metadata": {},
   "outputs": [],
   "source": []
  }
 ]
}